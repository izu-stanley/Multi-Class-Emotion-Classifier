{
 "cells": [
  {
   "cell_type": "code",
   "execution_count": 0,
   "metadata": {
    "colab": {},
    "colab_type": "code",
    "id": "IMMA8KSVGvMU"
   },
   "outputs": [],
   "source": [
    "# Run this cell to mount your Google Drive.\n",
    "from google.colab import drive\n",
    "drive.mount('/content/drive')"
   ]
  },
  {
   "cell_type": "code",
   "execution_count": 0,
   "metadata": {
    "colab": {
     "base_uri": "https://localhost:8080/",
     "height": 68
    },
    "colab_type": "code",
    "id": "A7iikwvLGwkJ",
    "outputId": "97d28ff5-0b55-46b7-90b9-34c1297d077f"
   },
   "outputs": [
    {
     "name": "stdout",
     "output_type": "stream",
     "text": [
      "Importing Modules\n"
     ]
    },
    {
     "name": "stderr",
     "output_type": "stream",
     "text": [
      "Using TensorFlow backend.\n"
     ]
    },
    {
     "name": "stdout",
     "output_type": "stream",
     "text": [
      "Using Keras version 2.2.4\n"
     ]
    }
   ],
   "source": [
    "print(\"Importing Modules\")\n",
    "import numpy as np\n",
    "import pandas as pd\n",
    "import numpy as np\n",
    "import pandas as pd\n",
    "import re, sys, os, csv, keras, pickle\n",
    "from keras import regularizers, initializers, optimizers, callbacks\n",
    "from keras.preprocessing.text import Tokenizer\n",
    "from keras.preprocessing.sequence import pad_sequences\n",
    "from keras.utils.np_utils import to_categorical\n",
    "from keras.layers import Embedding\n",
    "from keras.layers import Dense, Input, Flatten, Concatenate\n",
    "from keras.layers import Conv1D, MaxPooling1D, Embedding, Add, Dropout, LSTM, GRU, Bidirectional\n",
    "from keras.models import Model\n",
    "from keras import backend as K\n",
    "import pandas as pd\n",
    "from keras.models import load_model\n",
    "from keras.engine.topology import Layer, InputSpec\n",
    "import statistics \n",
    "from statistics import mode \n",
    "print(\"Using Keras version\",keras.__version__)\n",
    "!wget https://github.com/tlkh/text-emotion-classification/raw/master/data.csv -q"
   ]
  },
  {
   "cell_type": "markdown",
   "metadata": {
    "colab_type": "text",
    "id": "OfKVmJodxVvo"
   },
   "source": [
    "##Preprocessing"
   ]
  },
  {
   "cell_type": "code",
   "execution_count": 0,
   "metadata": {
    "colab": {
     "base_uri": "https://localhost:8080/",
     "height": 34
    },
    "colab_type": "code",
    "id": "YlN87rFqfYgF",
    "outputId": "cb3f8e83-2a71-4f38-8de5-ba88eb6e7828"
   },
   "outputs": [
    {
     "name": "stdout",
     "output_type": "stream",
     "text": [
      "Reading from csv file...Done!\n"
     ]
    }
   ],
   "source": [
    "texts, labels = [], []\n",
    "print(\"Reading from csv file...\", end=\"\")\n",
    "with open('data.csv') as csvfile:\n",
    "    readCSV = csv.reader(csvfile, delimiter=',')\n",
    "    for row in readCSV:\n",
    "        texts.append(row[0])\n",
    "        labels.append(row[1])\n",
    "print(\"Done!\")\n",
    "MAX_NB_WORDS = 40000 # max no. of words for tokenizer\n",
    "MAX_SEQUENCE_LENGTH = 30\n",
    "tokenizer = Tokenizer(num_words=MAX_NB_WORDS)\n",
    "tokenizer.fit_on_texts(texts)\n"
   ]
  },
  {
   "cell_type": "markdown",
   "metadata": {
    "colab_type": "text",
    "id": "X-DzdY45xa7j"
   },
   "source": [
    "##Loading weights from Google Drive file storage"
   ]
  },
  {
   "cell_type": "code",
   "execution_count": 0,
   "metadata": {
    "colab": {},
    "colab_type": "code",
    "id": "F2Lzxrt_dy8U"
   },
   "outputs": [],
   "source": [
    "cp drive/My\\ Drive/checkpoint-0.923.h5 /content"
   ]
  },
  {
   "cell_type": "markdown",
   "metadata": {
    "colab_type": "text",
    "id": "seowweWmxvqI"
   },
   "source": [
    "##Loading the Model"
   ]
  },
  {
   "cell_type": "code",
   "execution_count": 0,
   "metadata": {
    "colab": {},
    "colab_type": "code",
    "id": "7OvyeYCDcj2J"
   },
   "outputs": [],
   "source": [
    "model = load_model('checkpoint-0.923.h5')"
   ]
  },
  {
   "cell_type": "markdown",
   "metadata": {
    "colab_type": "text",
    "id": "rlhzJ_qUagal"
   },
   "source": [
    "#Switched out the twitter user data with a google form data to see if the model can be used for other applications such as Normal Emotion Classification"
   ]
  },
  {
   "cell_type": "markdown",
   "metadata": {
    "colab_type": "text",
    "id": "U8kV_W-Kxkdz"
   },
   "source": [
    "##Creating the Pipeline for feeding Google Form Data into the Model"
   ]
  },
  {
   "cell_type": "code",
   "execution_count": 0,
   "metadata": {
    "colab": {},
    "colab_type": "code",
    "id": "DfTbwbWXdFug"
   },
   "outputs": [],
   "source": [
    "def main_function(text): \n",
    "    sequences_test = tokenizer.texts_to_sequences(text)\n",
    "    classes = [\"indifferent\", \"happy\", \"sad\", \"hateful\",\"angry\"]\n",
    "    data_int_t = pad_sequences(sequences_test, padding='pre', maxlen=(MAX_SEQUENCE_LENGTH-5))\n",
    "    data_test = pad_sequences(data_int_t, padding='post', maxlen=(MAX_SEQUENCE_LENGTH))\n",
    "    y_prob = model.predict(data_test)\n",
    "    results = []\n",
    "    for n, prediction in enumerate(y_prob):\n",
    "        pred = y_prob.argmax(axis=-1)[n]\n",
    "        results.append([text[n],classes[pred]])\n",
    "        print(text[n],\"\\nPrediction:\",classes[pred],\"\\n\")\n",
    "\n",
    "\n",
    "def sub_function(text):\n",
    "    sequences_test = tokenizer.texts_to_sequences(text)\n",
    "    classes = [\"indifferent\", \"happy\", \"sad\", \"hateful\",\"angry\"]\n",
    "    data_int_t = pad_sequences(sequences_test, padding='pre', maxlen=(MAX_SEQUENCE_LENGTH-5))\n",
    "    data_test = pad_sequences(data_int_t, padding='post', maxlen=(MAX_SEQUENCE_LENGTH))\n",
    "    y_prob = model.predict(data_test)\n",
    "    results = []\n",
    "    for n, prediction in enumerate(y_prob):\n",
    "        pred = y_prob.argmax(axis=-1)[n]\n",
    "        results.append(classes[pred])        \n",
    "    return results"
   ]
  },
  {
   "cell_type": "markdown",
   "metadata": {
    "colab_type": "text",
    "id": "_GZM0CrTwiqr"
   },
   "source": [
    "##This is the google forms data"
   ]
  },
  {
   "cell_type": "code",
   "execution_count": 0,
   "metadata": {
    "colab": {
     "base_uri": "https://localhost:8080/",
     "height": 468
    },
    "colab_type": "code",
    "id": "Dud94-sFjsa8",
    "outputId": "600b7cb1-0c59-423e-a341-35983cdfb947"
   },
   "outputs": [
    {
     "data": {
      "text/html": [
       "<div>\n",
       "<style scoped>\n",
       "    .dataframe tbody tr th:only-of-type {\n",
       "        vertical-align: middle;\n",
       "    }\n",
       "\n",
       "    .dataframe tbody tr th {\n",
       "        vertical-align: top;\n",
       "    }\n",
       "\n",
       "    .dataframe thead th {\n",
       "        text-align: right;\n",
       "    }\n",
       "</style>\n",
       "<table border=\"1\" class=\"dataframe\">\n",
       "  <thead>\n",
       "    <tr style=\"text-align: right;\">\n",
       "      <th></th>\n",
       "      <th>Timestamp</th>\n",
       "      <th>First Name</th>\n",
       "      <th>Last Name</th>\n",
       "      <th>Sex</th>\n",
       "      <th>Department</th>\n",
       "      <th>Which would you call yourself?</th>\n",
       "      <th>Can you work under pressure?</th>\n",
       "      <th>If yes how would you describe yourself under pressure?</th>\n",
       "      <th>Which would you consider yourself?</th>\n",
       "      <th>What are your biggest strengths?</th>\n",
       "      <th>What are your biggest weaknesses?</th>\n",
       "      <th>What kind of teams would you prefer to work with?</th>\n",
       "      <th>Tell us about the last time you got angry with a co worker. What happened?</th>\n",
       "      <th>Tell us about the toughest decision you had to make in the last year.</th>\n",
       "      <th>What influenced the decisions you made?</th>\n",
       "    </tr>\n",
       "  </thead>\n",
       "  <tbody>\n",
       "    <tr>\n",
       "      <th>0</th>\n",
       "      <td>2019/06/04 1:38:53 PM GMT+1</td>\n",
       "      <td>sholola</td>\n",
       "      <td>omotunde</td>\n",
       "      <td>Male</td>\n",
       "      <td>systems engineering</td>\n",
       "      <td>Programmer</td>\n",
       "      <td>Yes</td>\n",
       "      <td>Ability to multitask and meet up before deadli...</td>\n",
       "      <td>Follower</td>\n",
       "      <td>Discovering new creative ideas to ease a task</td>\n",
       "      <td>Inability to source for good books due to high...</td>\n",
       "      <td>Minimum of 2 and maximum of 50</td>\n",
       "      <td>I have never had a feud with a co worker. I re...</td>\n",
       "      <td>Choosing between where am to do my industrail ...</td>\n",
       "      <td>To gather more knowledge in the computer progr...</td>\n",
       "    </tr>\n",
       "    <tr>\n",
       "      <th>1</th>\n",
       "      <td>2019/06/04 5:09:27 PM GMT+1</td>\n",
       "      <td>Emmanuel</td>\n",
       "      <td>Bassey</td>\n",
       "      <td>Male</td>\n",
       "      <td>Systems Engineering</td>\n",
       "      <td>Programmer</td>\n",
       "      <td>Maybe</td>\n",
       "      <td></td>\n",
       "      <td>Leader</td>\n",
       "      <td>I love hearing from others</td>\n",
       "      <td>I hate NO for an answer</td>\n",
       "      <td>Anyone</td>\n",
       "      <td>I just kept quiet</td>\n",
       "      <td>Can't recall</td>\n",
       "      <td>My background</td>\n",
       "    </tr>\n",
       "    <tr>\n",
       "      <th>2</th>\n",
       "      <td>2019/06/05 9:30:08 AM GMT+1</td>\n",
       "      <td>Wilson</td>\n",
       "      <td>Omoniyi</td>\n",
       "      <td>Male</td>\n",
       "      <td>systems</td>\n",
       "      <td>Data Scientist</td>\n",
       "      <td>Yes</td>\n",
       "      <td>Critical thinking</td>\n",
       "      <td>Leader</td>\n",
       "      <td>Creative thinking</td>\n",
       "      <td>Can't say for now</td>\n",
       "      <td>Creative team</td>\n",
       "      <td>None</td>\n",
       "      <td>None</td>\n",
       "      <td>None</td>\n",
       "    </tr>\n",
       "  </tbody>\n",
       "</table>\n",
       "</div>"
      ],
      "text/plain": [
       "                     Timestamp  ...            What influenced the decisions you made?\n",
       "0  2019/06/04 1:38:53 PM GMT+1  ...  To gather more knowledge in the computer progr...\n",
       "1  2019/06/04 5:09:27 PM GMT+1  ...                                     My background \n",
       "2  2019/06/05 9:30:08 AM GMT+1  ...                                               None\n",
       "\n",
       "[3 rows x 15 columns]"
      ]
     },
     "execution_count": 39,
     "metadata": {
      "tags": []
     },
     "output_type": "execute_result"
    }
   ],
   "source": [
    "df = pd.read_csv('form_data.csv')\n",
    "df = df.replace(np.nan, '', regex=True)\n",
    "df.head()"
   ]
  },
  {
   "cell_type": "markdown",
   "metadata": {
    "colab_type": "text",
    "id": "CvWwWIouxDTq"
   },
   "source": [
    "##Modified Google form Data"
   ]
  },
  {
   "cell_type": "code",
   "execution_count": 0,
   "metadata": {
    "colab": {
     "base_uri": "https://localhost:8080/",
     "height": 295
    },
    "colab_type": "code",
    "id": "nrYbdKFDjtLv",
    "outputId": "f60d77ea-119a-40e6-fbc3-9d686086301a"
   },
   "outputs": [
    {
     "data": {
      "text/html": [
       "<div>\n",
       "<style scoped>\n",
       "    .dataframe tbody tr th:only-of-type {\n",
       "        vertical-align: middle;\n",
       "    }\n",
       "\n",
       "    .dataframe tbody tr th {\n",
       "        vertical-align: top;\n",
       "    }\n",
       "\n",
       "    .dataframe thead th {\n",
       "        text-align: right;\n",
       "    }\n",
       "</style>\n",
       "<table border=\"1\" class=\"dataframe\">\n",
       "  <thead>\n",
       "    <tr style=\"text-align: right;\">\n",
       "      <th></th>\n",
       "      <th>If yes how would you describe yourself under pressure?</th>\n",
       "      <th>What are your biggest strengths?</th>\n",
       "      <th>What are your biggest weaknesses?</th>\n",
       "      <th>Tell us about the last time you got angry with a co worker. What happened?</th>\n",
       "      <th>Tell us about the toughest decision you had to make in the last year.</th>\n",
       "      <th>What influenced the decisions you made?</th>\n",
       "    </tr>\n",
       "  </thead>\n",
       "  <tbody>\n",
       "    <tr>\n",
       "      <th>0</th>\n",
       "      <td>Ability to multitask and meet up before deadli...</td>\n",
       "      <td>Discovering new creative ideas to ease a task</td>\n",
       "      <td>Inability to source for good books due to high...</td>\n",
       "      <td>I have never had a feud with a co worker. I re...</td>\n",
       "      <td>Choosing between where am to do my industrail ...</td>\n",
       "      <td>To gather more knowledge in the computer progr...</td>\n",
       "    </tr>\n",
       "    <tr>\n",
       "      <th>1</th>\n",
       "      <td></td>\n",
       "      <td>I love hearing from others</td>\n",
       "      <td>I hate NO for an answer</td>\n",
       "      <td>I just kept quiet</td>\n",
       "      <td>Can't recall</td>\n",
       "      <td>My background</td>\n",
       "    </tr>\n",
       "    <tr>\n",
       "      <th>2</th>\n",
       "      <td>Critical thinking</td>\n",
       "      <td>Creative thinking</td>\n",
       "      <td>Can't say for now</td>\n",
       "      <td>None</td>\n",
       "      <td>None</td>\n",
       "      <td>None</td>\n",
       "    </tr>\n",
       "  </tbody>\n",
       "</table>\n",
       "</div>"
      ],
      "text/plain": [
       "  If yes how would you describe yourself under pressure?  ...            What influenced the decisions you made?\n",
       "0  Ability to multitask and meet up before deadli...      ...  To gather more knowledge in the computer progr...\n",
       "1                                                         ...                                     My background \n",
       "2                                  Critical thinking      ...                                               None\n",
       "\n",
       "[3 rows x 6 columns]"
      ]
     },
     "execution_count": 42,
     "metadata": {
      "tags": []
     },
     "output_type": "execute_result"
    }
   ],
   "source": [
    "df1 = df.iloc[:,[7,9,10,12,13,14]]\n",
    "df1.head(10)"
   ]
  },
  {
   "cell_type": "markdown",
   "metadata": {
    "colab_type": "text",
    "id": "DJqogV60xLkN"
   },
   "source": [
    "##The Application and Results"
   ]
  },
  {
   "cell_type": "code",
   "execution_count": 0,
   "metadata": {
    "colab": {
     "base_uri": "https://localhost:8080/",
     "height": 1000
    },
    "colab_type": "code",
    "id": "UIC_AArclWL_",
    "outputId": "ebc6cec3-750e-4deb-dafb-419d8ec6086f"
   },
   "outputs": [
    {
     "name": "stdout",
     "output_type": "stream",
     "text": [
      "sholola omotunde of systems engineering  has the following results:\n",
      "Ability to multitask and meet up before deadlines  \n",
      "Prediction: indifferent \n",
      "\n",
      "Discovering new creative ideas to ease a task \n",
      "Prediction: happy \n",
      "\n",
      "Inability to source for good books due to high rate of purchase of the book  \n",
      "Prediction: sad \n",
      "\n",
      "I have never had a feud with a co worker. I respect all of their decisions  \n",
      "Prediction: sad \n",
      "\n",
      "Choosing between where am to do my industrail Training attachment \n",
      "Prediction: indifferent \n",
      "\n",
      "To gather more knowledge in the computer programming and networking field  \n",
      "Prediction: indifferent \n",
      "\n",
      "And has the overall personality: indifferent \n",
      "\n",
      "\n",
      "\n",
      "Emmanuel Bassey of Systems Engineering  has the following results:\n",
      " \n",
      "Prediction: indifferent \n",
      "\n",
      "I love hearing from others \n",
      "Prediction: happy \n",
      "\n",
      "I hate NO for an answer  \n",
      "Prediction: sad \n",
      "\n",
      "I just kept quiet \n",
      "Prediction: indifferent \n",
      "\n",
      "Can't recall \n",
      "Prediction: indifferent \n",
      "\n",
      "My background  \n",
      "Prediction: indifferent \n",
      "\n",
      "And has the overall personality: indifferent \n",
      "\n",
      "\n",
      "\n",
      "Wilson Omoniyi of systems has the following results:\n",
      "Critical thinking \n",
      "Prediction: indifferent \n",
      "\n",
      "Creative thinking \n",
      "Prediction: indifferent \n",
      "\n",
      "Can't say for now \n",
      "Prediction: indifferent \n",
      "\n",
      "None \n",
      "Prediction: indifferent \n",
      "\n",
      "None \n",
      "Prediction: indifferent \n",
      "\n",
      "None \n",
      "Prediction: indifferent \n",
      "\n",
      "And has the overall personality: indifferent \n",
      "\n",
      "\n",
      "\n"
     ]
    }
   ],
   "source": [
    "for x in range(len(df)):\n",
    "    print(df.iloc[x,1],df.iloc[x,2],'of',df.iloc[x,4],'has the following results:')\n",
    "    main_function(df1.iloc[x,:])\n",
    "    print(\"And has the overall personality:\",mode(sub_function(df1.iloc[x,:])), '\\n\\n\\n')\n",
    "    \n",
    "    "
   ]
  }
 ],
 "metadata": {
  "colab": {
   "name": "NLP Test.ipynb",
   "provenance": [],
   "version": "0.3.2"
  },
  "kernelspec": {
   "display_name": "Python 3",
   "language": "python",
   "name": "python3"
  },
  "language_info": {
   "codemirror_mode": {
    "name": "ipython",
    "version": 3
   },
   "file_extension": ".py",
   "mimetype": "text/x-python",
   "name": "python",
   "nbconvert_exporter": "python",
   "pygments_lexer": "ipython3",
   "version": "3.7.1"
  }
 },
 "nbformat": 4,
 "nbformat_minor": 1
}
